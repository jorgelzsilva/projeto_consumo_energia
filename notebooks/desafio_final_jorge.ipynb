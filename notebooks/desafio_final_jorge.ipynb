{
 "cells": [
  {
   "cell_type": "markdown",
   "metadata": {},
   "source": [
    "# Desafio final"
   ]
  },
  {
   "cell_type": "markdown",
   "metadata": {},
   "source": [
    "Este projeto tem como objetivo realizar uma análise abrangente do consumo de energia elétrica no Brasil, utilizando dados de 2004 a 2023. O desafio consiste em explorar padrões de consumo energético, identificar tendências ao longo do tempo e investigar possíveis correlações com fatores socioeconômicos e geográficos. Através de técnicas de análise exploratória de dados e visualizações informativas, buscaremos compreender as variações no consumo entre diferentes estados, regiões e tipos de consumidores. Além disso, examinaremos a influência de fatores como população e desenvolvimento econômico no consumo de energia. Esta análise visa fornecer insights valiosos sobre o panorama energético brasileiro, contribuindo para uma compreensão mais profunda dos padrões de consumo e potencialmente auxiliando na formulação de políticas energéticas mais eficientes e sustentáveis. Para transparência, esse desafio foi feito de forma colaborativa com inteligência artificial em questões de estrutura e estilos claros e concisos da linguagem Python, buscando sempre que possível o pep-8."
   ]
  },
  {
   "cell_type": "code",
   "execution_count": 16,
   "metadata": {},
   "outputs": [
    {
     "name": "stdout",
     "output_type": "stream",
     "text": [
      "Hello, world!\n"
     ]
    }
   ],
   "source": [
    "# para começar com o pé direito\n",
    "print('Hello, world!')"
   ]
  },
  {
   "cell_type": "markdown",
   "metadata": {},
   "source": [
    "## Estrutura de arquivos"
   ]
  },
  {
   "cell_type": "markdown",
   "metadata": {},
   "source": [
    "Antes de mergulharmos na análise do consumo energético brasileiro, é crucial estabelecer uma base sólida para nosso projeto. Uma estrutura organizada e um sistema de versionamento eficiente são fundamentais para garantir a integridade e reprodutibilidade do nosso trabalho.\n",
    "\n",
    "Para este projeto, adotei a seguinte estrutura de diretórios:\n",
    "\n",
    "![Estrutura de diretórios e arquivos](../imagens/estrutura_inicio.png)\n",
    "\n",
    "Esta organização permite uma clara separação entre dados brutos, processados e o código de análise, facilitando a navegação e manutenção do projeto.\n",
    "\n",
    "Além disso, utilizo o GitHub para controle de versão, o que não só previne perdas acidentais, mas também abre portas para colaborações futuras. Um arquivo `.gitignore` foi configurado para excluir a pasta do ambiente virtual do versionamento, mantendo nosso repositório enxuto e focado apenas nos elementos essenciais do projeto.\n",
    "\n",
    "Com esta base estabelecida, estamos prontos para iniciar nossa análise do consumo energético no Brasil, assegurando que nosso trabalho seja organizado, rastreável e colaborativo."
   ]
  },
  {
   "cell_type": "markdown",
   "metadata": {},
   "source": [
    "## Bibliotecas usadas"
   ]
  },
  {
   "cell_type": "code",
   "execution_count": 17,
   "metadata": {},
   "outputs": [],
   "source": [
    "# análise e manipulação de dataframes\n",
    "import pandas as pd\n",
    "# geração de gráficos\n",
    "import matplotlib as plt\n",
    "import seaborn as sns"
   ]
  },
  {
   "cell_type": "markdown",
   "metadata": {},
   "source": [
    "## Preparação"
   ]
  },
  {
   "cell_type": "markdown",
   "metadata": {},
   "source": [
    "### Criação dos dataframes iniciais"
   ]
  },
  {
   "cell_type": "markdown",
   "metadata": {},
   "source": [
    "Para importar os dataframes, vamos dar uma breve olhada nos arquivos. Para isso vou abrir o arquivo csv no próprio VS Code, para saber qual é o separador:\n",
    "\n",
    "![visualização do arquivo csv](../imagens/qual_separador.png)\n",
    "\n",
    "Podemos ver que o separador é vírgula e que há arquivos ausentes já que tem duas vígulas na sequencia nos primeiros dados.\n",
    "\n",
    "Agora usando a extensão DataWrangler:\n",
    "\n",
    "![Visualização do CSV pelo DataWangler](../imagens/entendo_dataset_dw.png)\n",
    "\n",
    "Podemos ver que em consumidores temos quase 1/3 de dados ausentes, isso é importante na nossa análise, voltaremos a isso logo mais."
   ]
  },
  {
   "cell_type": "code",
   "execution_count": 18,
   "metadata": {},
   "outputs": [],
   "source": [
    "# importando o dataset de energia com o seperador por vírgulas\n",
    "dataset_energia =  pd.read_csv('../dados/brutos/consumo_energia_eletrica.csv', sep=',', encoding='utf-8')"
   ]
  },
  {
   "cell_type": "code",
   "execution_count": 19,
   "metadata": {},
   "outputs": [
    {
     "name": "stdout",
     "output_type": "stream",
     "text": [
      "<class 'pandas.core.frame.DataFrame'>\n",
      "RangeIndex: 39897 entries, 0 to 39896\n",
      "Data columns (total 6 columns):\n",
      " #   Column               Non-Null Count  Dtype  \n",
      "---  ------               --------------  -----  \n",
      " 0   ano                  39897 non-null  int64  \n",
      " 1   mes                  39897 non-null  int64  \n",
      " 2   sigla_uf             39897 non-null  object \n",
      " 3   tipo_consumo         39897 non-null  object \n",
      " 4   numero_consumidores  26937 non-null  float64\n",
      " 5   consumo              39897 non-null  int64  \n",
      "dtypes: float64(1), int64(3), object(2)\n",
      "memory usage: 1.8+ MB\n"
     ]
    }
   ],
   "source": [
    "dataset_energia.info()"
   ]
  },
  {
   "cell_type": "code",
   "execution_count": 20,
   "metadata": {},
   "outputs": [
    {
     "data": {
      "text/html": [
       "<div>\n",
       "<style scoped>\n",
       "    .dataframe tbody tr th:only-of-type {\n",
       "        vertical-align: middle;\n",
       "    }\n",
       "\n",
       "    .dataframe tbody tr th {\n",
       "        vertical-align: top;\n",
       "    }\n",
       "\n",
       "    .dataframe thead th {\n",
       "        text-align: right;\n",
       "    }\n",
       "</style>\n",
       "<table border=\"1\" class=\"dataframe\">\n",
       "  <thead>\n",
       "    <tr style=\"text-align: right;\">\n",
       "      <th></th>\n",
       "      <th>ano</th>\n",
       "      <th>mes</th>\n",
       "      <th>numero_consumidores</th>\n",
       "      <th>consumo</th>\n",
       "    </tr>\n",
       "  </thead>\n",
       "  <tbody>\n",
       "    <tr>\n",
       "      <th>count</th>\n",
       "      <td>39897.000000</td>\n",
       "      <td>39897.000000</td>\n",
       "      <td>2.693700e+04</td>\n",
       "      <td>3.989700e+04</td>\n",
       "    </tr>\n",
       "    <tr>\n",
       "      <th>mean</th>\n",
       "      <td>2013.742161</td>\n",
       "      <td>6.505752</td>\n",
       "      <td>6.954567e+05</td>\n",
       "      <td>6.076862e+05</td>\n",
       "    </tr>\n",
       "    <tr>\n",
       "      <th>std</th>\n",
       "      <td>5.886017</td>\n",
       "      <td>3.454432</td>\n",
       "      <td>1.869920e+06</td>\n",
       "      <td>1.198425e+06</td>\n",
       "    </tr>\n",
       "    <tr>\n",
       "      <th>min</th>\n",
       "      <td>2004.000000</td>\n",
       "      <td>1.000000</td>\n",
       "      <td>5.200000e+01</td>\n",
       "      <td>3.540000e+02</td>\n",
       "    </tr>\n",
       "    <tr>\n",
       "      <th>25%</th>\n",
       "      <td>2009.000000</td>\n",
       "      <td>4.000000</td>\n",
       "      <td>1.874100e+04</td>\n",
       "      <td>8.559200e+04</td>\n",
       "    </tr>\n",
       "    <tr>\n",
       "      <th>50%</th>\n",
       "      <td>2014.000000</td>\n",
       "      <td>7.000000</td>\n",
       "      <td>1.084390e+05</td>\n",
       "      <td>2.197670e+05</td>\n",
       "    </tr>\n",
       "    <tr>\n",
       "      <th>75%</th>\n",
       "      <td>2019.000000</td>\n",
       "      <td>10.000000</td>\n",
       "      <td>4.581500e+05</td>\n",
       "      <td>5.946410e+05</td>\n",
       "    </tr>\n",
       "    <tr>\n",
       "      <th>max</th>\n",
       "      <td>2023.000000</td>\n",
       "      <td>12.000000</td>\n",
       "      <td>1.920126e+07</td>\n",
       "      <td>1.280974e+07</td>\n",
       "    </tr>\n",
       "  </tbody>\n",
       "</table>\n",
       "</div>"
      ],
      "text/plain": [
       "                ano           mes  numero_consumidores       consumo\n",
       "count  39897.000000  39897.000000         2.693700e+04  3.989700e+04\n",
       "mean    2013.742161      6.505752         6.954567e+05  6.076862e+05\n",
       "std        5.886017      3.454432         1.869920e+06  1.198425e+06\n",
       "min     2004.000000      1.000000         5.200000e+01  3.540000e+02\n",
       "25%     2009.000000      4.000000         1.874100e+04  8.559200e+04\n",
       "50%     2014.000000      7.000000         1.084390e+05  2.197670e+05\n",
       "75%     2019.000000     10.000000         4.581500e+05  5.946410e+05\n",
       "max     2023.000000     12.000000         1.920126e+07  1.280974e+07"
      ]
     },
     "execution_count": 20,
     "metadata": {},
     "output_type": "execute_result"
    }
   ],
   "source": [
    "dataset_energia.describe()"
   ]
  },
  {
   "cell_type": "code",
   "execution_count": 33,
   "metadata": {},
   "outputs": [
    {
     "name": "stdout",
     "output_type": "stream",
     "text": [
      "1017\n"
     ]
    }
   ],
   "source": [
    "print(dataset_energia.duplicated().sum())"
   ]
  },
  {
   "cell_type": "code",
   "execution_count": 36,
   "metadata": {},
   "outputs": [],
   "source": [
    "def identifica_duplicatas(dataframe):\n",
    "  # Identificar todas as linhas duplicadas\n",
    "  duplicados = dataframe[dataframe.duplicated(keep=False)]\n",
    "\n",
    "  # Ordenar as duplicatas para agrupar as linhas idênticas\n",
    "  duplicados_ordenados = duplicados.sort_values(by=dataframe.columns.tolist())\n",
    "\n",
    "  # Exibir as duplicatas lado a lado\n",
    "  print(duplicados_ordenados)"
   ]
  },
  {
   "cell_type": "code",
   "execution_count": 37,
   "metadata": {},
   "outputs": [
    {
     "name": "stdout",
     "output_type": "stream",
     "text": [
      "        ano  mes sigla_uf tipo_consumo  numero_consumidores  consumo\n",
      "37912  2023    1       AC    Comercial              23174.0    21629\n",
      "38929  2023    1       AC    Comercial              23174.0    21629\n",
      "38247  2023    1       AC   Industrial                299.0     3803\n",
      "39264  2023    1       AC   Industrial                299.0     3803\n",
      "38574  2023    1       AC  Residencial             240560.0    47887\n",
      "...     ...  ...      ...          ...                  ...      ...\n",
      "39550  2023   12       TO   Industrial               1413.0    35417\n",
      "37888  2023   12       TO       Outros              53923.0    51090\n",
      "38905  2023   12       TO       Outros              53923.0    51090\n",
      "38856  2023   12       TO  Residencial             576079.0   119941\n",
      "39873  2023   12       TO  Residencial             576079.0   119941\n",
      "\n",
      "[2034 rows x 6 columns]\n"
     ]
    }
   ],
   "source": [
    "identifica_duplicatas(dataset_energia)"
   ]
  }
 ],
 "metadata": {
  "kernelspec": {
   "display_name": "energia",
   "language": "python",
   "name": "python3"
  },
  "language_info": {
   "codemirror_mode": {
    "name": "ipython",
    "version": 3
   },
   "file_extension": ".py",
   "mimetype": "text/x-python",
   "name": "python",
   "nbconvert_exporter": "python",
   "pygments_lexer": "ipython3",
   "version": "3.13.0"
  }
 },
 "nbformat": 4,
 "nbformat_minor": 2
}
