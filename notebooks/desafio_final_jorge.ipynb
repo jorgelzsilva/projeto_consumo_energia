{
 "cells": [
  {
   "cell_type": "markdown",
   "metadata": {},
   "source": [
    "# Desafio final"
   ]
  },
  {
   "cell_type": "markdown",
   "metadata": {},
   "source": [
    "Este projeto tem como objetivo realizar uma análise abrangente do consumo de energia elétrica no Brasil, utilizando dados de 2004 a 2023. O desafio consiste em explorar padrões de consumo energético, identificar tendências ao longo do tempo e investigar possíveis correlações com fatores socioeconômicos e geográficos. Através de técnicas de análise exploratória de dados e visualizações informativas, buscaremos compreender as variações no consumo entre diferentes estados, regiões e tipos de consumidores. Além disso, examinaremos a influência de fatores como população e desenvolvimento econômico no consumo de energia. Esta análise visa fornecer insights valiosos sobre o panorama energético brasileiro, contribuindo para uma compreensão mais profunda dos padrões de consumo e potencialmente auxiliando na formulação de políticas energéticas mais eficientes e sustentáveis. Para transparência, esse desafio foi feito de forma colaborativa com inteligência artificial em questões de estrutura e estilos claros e concisos da linguagem Python, buscando sempre que possível o pep-8."
   ]
  },
  {
   "cell_type": "code",
   "execution_count": null,
   "metadata": {},
   "outputs": [],
   "source": [
    "# para começar com o pé direito\n",
    "print('Hello, world!')"
   ]
  },
  {
   "cell_type": "markdown",
   "metadata": {},
   "source": [
    "## Estrutura de arquivos"
   ]
  },
  {
   "cell_type": "markdown",
   "metadata": {},
   "source": [
    "Antes de mergulharmos na análise do consumo energético brasileiro, é crucial estabelecer uma base sólida para nosso projeto. Uma estrutura organizada e um sistema de versionamento eficiente são fundamentais para garantir a integridade e reprodutibilidade do nosso trabalho.\n",
    "\n",
    "Para este projeto, adotei a seguinte estrutura de diretórios:\n",
    "\n",
    "![Estrutura de diretórios e arquivos](../imagens/estrutura_inicio.png)\n",
    "\n",
    "Esta organização permite uma clara separação entre dados brutos, processados e o código de análise, facilitando a navegação e manutenção do projeto.\n",
    "\n",
    "Além disso, utilizo o GitHub para controle de versão, o que não só previne perdas acidentais, mas também abre portas para colaborações futuras. Um arquivo `.gitignore` foi configurado para excluir a pasta do ambiente virtual do versionamento, mantendo nosso repositório enxuto e focado apenas nos elementos essenciais do projeto.\n",
    "\n",
    "Com esta base estabelecida, estamos prontos para iniciar nossa análise do consumo energético no Brasil, assegurando que nosso trabalho seja organizado, rastreável e colaborativo."
   ]
  },
  {
   "cell_type": "markdown",
   "metadata": {},
   "source": [
    "## Bibliotecas usadas"
   ]
  },
  {
   "cell_type": "code",
   "execution_count": null,
   "metadata": {},
   "outputs": [],
   "source": [
    "# análise e manipulação de dataframes\n",
    "import pandas as pd\n",
    "# geração de gráficos\n",
    "import matplotlib.pyplot as plt\n",
    "import seaborn as sns"
   ]
  },
  {
   "cell_type": "markdown",
   "metadata": {},
   "source": [
    "## Preparação"
   ]
  },
  {
   "cell_type": "markdown",
   "metadata": {},
   "source": [
    "### Criação dos dataframes iniciais"
   ]
  },
  {
   "cell_type": "markdown",
   "metadata": {},
   "source": [
    "Para importar os dataframes, vamos dar uma breve olhada nos arquivos. Para isso vou abrir o arquivo csv no próprio VS Code, para saber qual é o separador:\n",
    "\n",
    "![visualização do arquivo csv](../imagens/qual_separador.png)\n",
    "\n",
    "Podemos ver que o separador é vírgula e que há arquivos ausentes já que tem duas vígulas na sequencia nos primeiros dados.\n",
    "\n",
    "Agora usando a extensão DataWrangler:\n",
    "\n",
    "![Visualização do CSV pelo DataWangler](../imagens/entendo_dataset_dw.png)\n",
    "\n",
    "Podemos ver que em consumidores temos quase 1/3 de dados ausentes, isso é importante na nossa análise, voltaremos a isso logo mais."
   ]
  },
  {
   "cell_type": "markdown",
   "metadata": {},
   "source": [
    "### Importando os dados de energia elétrica"
   ]
  },
  {
   "cell_type": "code",
   "execution_count": null,
   "metadata": {},
   "outputs": [],
   "source": [
    "# importando o dataset de energia com o seperador por vírgulas\n",
    "dataset_energia =  pd.read_csv('../dados/brutos/consumo_energia_eletrica.csv', sep=',', encoding='utf-8')"
   ]
  },
  {
   "cell_type": "markdown",
   "metadata": {},
   "source": [
    "### Análise de dados duplicados para energia elétrica"
   ]
  },
  {
   "cell_type": "markdown",
   "metadata": {},
   "source": [
    "Vamos verificar se temos dados duplicados, podemos usar duplicated().sum() e obter a quantidade, mas é interessantes podemos olhar de perto essas duplicatas e termos a certeza de que de fato são duplicatas. Minha abordagem será colocar esses valores em sequência, o dado original seguido do dado duplicado, mas como podem ser muitos dados, vamos adicionar um parâmetro para a escolha de visualização resumida ou completa."
   ]
  },
  {
   "cell_type": "code",
   "execution_count": null,
   "metadata": {},
   "outputs": [],
   "source": [
    "import pandas as pd\n",
    "\n",
    "def identifica_duplicatas(dataframe, resumido=True):\n",
    "    \"\"\"\n",
    "    Identifica e exibe as linhas duplicadas em um DataFrame.\n",
    "    \n",
    "    Args:\n",
    "    dataframe (pd.DataFrame): O DataFrame a ser analisado.\n",
    "    resumido (bool): Se True, exibe um resumo padrão. Se False, exibe todas as linhas duplicadas agrupadas.\n",
    "    \n",
    "    Returns:\n",
    "    pd.DataFrame: DataFrame contendo as linhas duplicadas.\n",
    "    \"\"\"\n",
    "    # Identificar todas as linhas duplicadas\n",
    "    duplicados = dataframe[dataframe.duplicated(keep=False)]\n",
    "\n",
    "    # Ordenar as duplicatas para agrupar as linhas idênticas\n",
    "    duplicados_ordenados = duplicados.sort_values(by=dataframe.columns.tolist())\n",
    "\n",
    "    if resumido:\n",
    "        # Exibir as duplicatas no formato resumido padrão do pandas\n",
    "        quantidade_duplicados = dataframe.duplicated().sum()\n",
    "        print(f'Foram encontradas {quantidade_duplicados} duplicatas, para ver todas as duplicatas, configure o parâmetro \"resumido para False\"')\n",
    "        print(\"-\" * 80)  # Linha separadora entre grupos\n",
    "        print(duplicados_ordenados)\n",
    "    else:\n",
    "        # Configurar o pandas para mostrar todas as colunas\n",
    "        with pd.option_context('display.max_columns', None, 'display.width', None):\n",
    "            # Agrupar as duplicatas\n",
    "            grupos = duplicados_ordenados.groupby(duplicados_ordenados.columns.tolist())\n",
    "            \n",
    "            for _, grupo in grupos:\n",
    "                print(\"Grupo de linhas duplicadas:\")\n",
    "                for index, row in grupo.iterrows():\n",
    "                    print(f\"Linha {index}:\")\n",
    "                    print(row.to_frame().T)  # Transforma a Series em um DataFrame de uma linha\n",
    "                print(\"-\" * 80)  # Linha separadora entre grupos\n",
    "                print()  # Linha em branco para melhor legibilidade\n",
    "\n"
   ]
  },
  {
   "cell_type": "code",
   "execution_count": null,
   "metadata": {},
   "outputs": [],
   "source": [
    "identifica_duplicatas(dataset_energia, True)"
   ]
  },
  {
   "cell_type": "markdown",
   "metadata": {},
   "source": [
    "Temos 1017 duplicatas, e a função mostram que realmente são dados duplicados. Vamos então limpar o dataset."
   ]
  },
  {
   "cell_type": "code",
   "execution_count": null,
   "metadata": {},
   "outputs": [],
   "source": [
    "# removendo as duplicatas\n",
    "dataset_energia.drop_duplicates(keep='first', inplace=True)"
   ]
  },
  {
   "cell_type": "code",
   "execution_count": null,
   "metadata": {},
   "outputs": [],
   "source": [
    "# vamos chamar a função novamente para ver se realmente foi efetivo\n",
    "identifica_duplicatas(dataset_energia, True)"
   ]
  },
  {
   "cell_type": "markdown",
   "metadata": {},
   "source": [
    "### Análise de dados ausentes para energia elétrica"
   ]
  },
  {
   "cell_type": "markdown",
   "metadata": {},
   "source": [
    "Vamos criar uma função que verifica a quantidade de dados ausentes para as colunas desse dataframe, com base nos resultados que obtivermos, vamos decidir qual abordagem tomar."
   ]
  },
  {
   "cell_type": "code",
   "execution_count": null,
   "metadata": {},
   "outputs": [],
   "source": [
    "def analise_dados_ausentes(df, crescente=False, tamanho_figura=(10, 6)):\n",
    "    \"\"\"\n",
    "    Analisa e visualiza dados ausentes em um DataFrame.\n",
    "\n",
    "    Args:\n",
    "    df (pd.DataFrame): O DataFrame a ser analisado.\n",
    "    crescente (bool): Se True, ordena do menor para o maior. Se False, do maior para o menor.\n",
    "    tamanho_figura (tuple): Tamanho da figura do gráfico.\n",
    "\n",
    "    Returns:\n",
    "    None\n",
    "    \"\"\"\n",
    "    # Calcular o número de valores ausentes por coluna\n",
    "    valores_ausentes = df.isnull().sum().sort_values(ascending=crescente)\n",
    "    \n",
    "    # Calcular a porcentagem de valores ausentes\n",
    "    porcentagens_ausentes = 100 * df.isnull().sum() / len(df)\n",
    "    porcentagens_ausentes = porcentagens_ausentes.sort_values(ascending=crescente)\n",
    "\n",
    "    # Criar o gráfico de barras horizontal\n",
    "    plt.figure(figsize=tamanho_figura, facecolor='white')\n",
    "    ax = valores_ausentes.plot(kind='barh', color='#4a4a4a')\n",
    "    \n",
    "    # Remover bordas\n",
    "    for spine in ax.spines.values():\n",
    "        spine.set_visible(False)\n",
    "    \n",
    "    # Remover ticks do eixo y\n",
    "    ax.tick_params(axis='y', which='both', left=False)\n",
    "    \n",
    "    # Adicionar valores\n",
    "    for i, v in enumerate(valores_ausentes):\n",
    "        ax.text(v, i, f' {v}', va='center')\n",
    "    \n",
    "    # Informações de títulos e rótulos\n",
    "    plt.title('Quantidade de Dados Ausentes por Coluna', fontsize=14, pad=20)\n",
    "    plt.xlabel('Número de Dados Ausentes', fontsize=12, labelpad=10)\n",
    "    plt.ylabel('')  # Remover label do eixo y\n",
    "    plt.tight_layout()\n",
    "    plt.show()\n",
    "\n",
    "    # Imprimir as porcentagens de dados ausentes\n",
    "    print(\"\\nPorcentagem de Dados Ausentes por Coluna:\")\n",
    "    for col, porcentagem in porcentagens_ausentes.items():\n",
    "        print(f\"{col}: {porcentagem:.2f}%\")"
   ]
  },
  {
   "cell_type": "code",
   "execution_count": null,
   "metadata": {},
   "outputs": [],
   "source": [
    "analise_dados_ausentes(dataset_energia, True)"
   ]
  },
  {
   "cell_type": "markdown",
   "metadata": {},
   "source": [
    "Temos 32% de dados ausentes na coluna \"numero_consumidores\", vamos analisar o comportamento desses dados ausentes, se é aleatório ou está concentrado."
   ]
  },
  {
   "cell_type": "code",
   "execution_count": null,
   "metadata": {},
   "outputs": [],
   "source": [
    "filtro_ausente = dataset_energia['numero_consumidores'].isnull() == True"
   ]
  },
  {
   "cell_type": "code",
   "execution_count": null,
   "metadata": {},
   "outputs": [],
   "source": [
    "dataset_energia[filtro_ausente]"
   ]
  },
  {
   "cell_type": "code",
   "execution_count": null,
   "metadata": {},
   "outputs": [],
   "source": [
    "dataset_energia[filtro_ausente].groupby('ano')['ano'].value_counts()"
   ]
  },
  {
   "cell_type": "markdown",
   "metadata": {},
   "source": [
    "Não há concentração de dados ausentes por ano. Cada ano tem exatamente o mesmo valor de dados ausentes. Vamos verificar outras variáveis, como \"tipo_consumo\"."
   ]
  },
  {
   "cell_type": "code",
   "execution_count": null,
   "metadata": {},
   "outputs": [],
   "source": [
    "tipos = dataset_energia['tipo_consumo'].unique()\n",
    "for tipo in tipos:\n",
    "  print(f'{tipo} = {len(dataset_energia[dataset_energia['tipo_consumo'] == tipo].value_counts())}')"
   ]
  },
  {
   "cell_type": "markdown",
   "metadata": {},
   "source": [
    "Total e Cativo não tem valores ao longo de todo o dataframe e eles compoõe os 12960 valores que faltam no dataframe.\n",
    "\n",
    "Vamos tentar entender o funcionamento desses valores. Podemos inputar valores para Total uma vez que total é a soma de partes? Mas e o Cativo? "
   ]
  },
  {
   "cell_type": "code",
   "execution_count": null,
   "metadata": {},
   "outputs": [],
   "source": [
    "filtro_ano1 = (dataset_energia['ano'] == 2004) & (dataset_energia['sigla_uf'] == 'TO') & (dataset_energia['mes'] == 2)\n",
    "dataset_energia[filtro_ano]"
   ]
  },
  {
   "cell_type": "markdown",
   "metadata": {},
   "source": [
    "Nessa amostra podemos perceber que o consumo dos tipos Residencial, Industrial, Comercial e Outros são equivalentes ao Total e que Cativo tem o mesmo valor de Total."
   ]
  },
  {
   "cell_type": "code",
   "execution_count": null,
   "metadata": {},
   "outputs": [],
   "source": [
    "filtro_ano2 = (dataset_energia['ano'] == 2023) & \\\n",
    "              (dataset_energia['sigla_uf'] == 'SP') & \\\n",
    "              (dataset_energia['mes'] == 10)\n",
    "dataset_energia[filtro_ano2]"
   ]
  },
  {
   "cell_type": "markdown",
   "metadata": {},
   "source": [
    "Nessa outra amostra, novamente o consumo dos tipos Residencial, Industrial, Comercial e Outros equivale ao Total, e dessa vez Cativo não tem o mesmo valor, mas é um valor menor. Podemos deduzir que Cativo é uma representação especial que engloba os outros tipos de consumo como se mostra a seguir:\n",
    "\n",
    "1. **Expressão do Consumo Total**:\n",
    "   $$\n",
    "   \\text{Total} = Residencial + Industrial + Comercial + Outros\n",
    "   $$\n",
    "\n",
    "2. **Consumo Cativo como Parte do Total**:\n",
    "   \n",
    "   Podemos expressar que o consumo Cativo ($\\text{Cativo}$) está contido no Total ($\\text{Total}$) da seguinte maneira:\n",
    "   $$\n",
    "   \\text{Cativo} \\subseteq \\text{Total}\n",
    "   $$\n",
    "\n",
    "3. **Definição Condicional do Consumo Cativo**:\n",
    "   \n",
    "   Ou seja:\n",
    "   $$\n",
    "   \\text{Cativo} = \\{ x \\in \\text{Total} \\mid x \\text{ representa um consumo que faz parte do regime cativo} \\}\n",
    "   $$\n",
    "\n",
    "\n",
    "O consumo cativo é um tipo de contratação de energia elétrica em que o consumidor é obrigado a comprar energia de uma concessionária local e pagar as tarifas estabelecidas pelo governo. \n",
    "No mercado cativo, o consumidor não pode negociar o preço da energia e está sujeito a cobranças extras, como as bandeiras tarifárias. As tarifas são reguladas pela Agência Nacional de Energia Elétrica (ANEEL) e são estabelecidas considerando os custos de geração, transmissão e distribuição. \n",
    "O consumidor cativo é um participante do Ambiente de Contratação Regulada (ACR), que é a forma tradicional de consumir energia no Brasil. A maioria dos consumidores comuns fazem parte do mercado cativo. \n",
    "O consumidor cativo pode pagar pela eletricidade por meio de tarifa monômia ou binômia, dependendo de sua classe de tensão. \n",
    "O consumidor cativo pode migrar para o mercado livre de energia, desde que comunique a mudança à distribuidora com, no mínimo, seis meses de antecedência.\n",
    "Fontes: https://srna.co/consumidor-cativo-e-consumidor-livre-entenda-as-diferencas/ https://blog.esferaenergia.com.br/mercado-livre-de-energia/o-que-mercado-cativo-energia https://www.portalsolar.com.br/qual-a-diferenca-entre-consumidor-cativo-e-consumidor-livre-de-energia "
   ]
  }
 ],
 "metadata": {
  "kernelspec": {
   "display_name": "energia",
   "language": "python",
   "name": "python3"
  },
  "language_info": {
   "codemirror_mode": {
    "name": "ipython",
    "version": 3
   },
   "file_extension": ".py",
   "mimetype": "text/x-python",
   "name": "python",
   "nbconvert_exporter": "python",
   "pygments_lexer": "ipython3",
   "version": "3.13.0"
  }
 },
 "nbformat": 4,
 "nbformat_minor": 2
}
